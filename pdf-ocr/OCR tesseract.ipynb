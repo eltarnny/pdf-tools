{
 "cells": [
  {
   "cell_type": "markdown",
   "metadata": {},
   "source": [
    "This is a test for free PDF OCR using PyMuPDF (fitz), tesseract, pytesseract.  \n",
    "For a paid and admitedly much better outcome, you can use Google Vision https://cloud.google.com/vision?hl=en and other well-known LLMs\n"
   ]
  },
  {
   "cell_type": "markdown",
   "metadata": {},
   "source": [
    "pip install pytesseract  "
   ]
  },
  {
   "cell_type": "code",
   "execution_count": 1,
   "metadata": {},
   "outputs": [],
   "source": [
    "# https://tesseract-ocr.github.io/tessdoc/Installation.html\n",
    "# Install Tesseract from here:https://github.com/UB-Mannheim/tesseract/wiki\n",
    "# https://github.com/tesseract-ocr/tessdoc/blob/main/Data-Files.md\n",
    "# Best data (slow but more accurate from here: https://github.com/tesseract-ocr/tessdata_best/tree/main)\n",
    "# Get both ell.traineddata and script/Greek.traineddata\n",
    "import fitz  # PyMuPDF\n",
    "import io\n",
    "from pathlib import Path\n",
    "from PIL import Image\n",
    "import cv2\n",
    "import numpy as np\n",
    "\n",
    "import pytesseract\n",
    "import os"
   ]
  },
  {
   "cell_type": "markdown",
   "metadata": {},
   "source": [
    "https://www.greek-language.gr/greekLang/files/document/modern_greek/grammatiki.triantafyllidi.pdf  "
   ]
  },
  {
   "cell_type": "code",
   "execution_count": null,
   "metadata": {},
   "outputs": [],
   "source": [
    "pdf_name= 'grammatiki.triantafyllidi'"
   ]
  },
  {
   "cell_type": "code",
   "execution_count": 5,
   "metadata": {},
   "outputs": [],
   "source": [
    "def create_folder(folder_path):\n",
    "    path = Path(folder_path)\n",
    "    if not path.exists():\n",
    "        path.mkdir(parents=True, exist_ok=True)\n",
    "    return path\n"
   ]
  },
  {
   "cell_type": "code",
   "execution_count": 16,
   "metadata": {},
   "outputs": [],
   "source": [
    "def my_zfill(number, max_number):\n",
    "    max_digits = len(str(max_number))\n",
    "    return str(number).zfill(max_digits)\n"
   ]
  },
  {
   "cell_type": "code",
   "execution_count": null,
   "metadata": {},
   "outputs": [],
   "source": [
    "def get_image_files(folder, img_formats=('*.png', '*.jpg', '*.jpeg', '*.gif', '*.bmp')):\n",
    "    return [img for img_format in img_formats for img in folder.glob(img_format)]\n"
   ]
  },
  {
   "cell_type": "code",
   "execution_count": null,
   "metadata": {},
   "outputs": [],
   "source": [
    "path = Path.cwd()\n",
    "pdf_path = path/'data/pdfs' / (pdf_name + '.pdf')\n",
    "images_path = create_folder(path/'data/images'/pdf_name)\n",
    "output_path = create_folder(path/'output'/pdf_name)\n",
    "path, pdf_path, images_path, output_path"
   ]
  },
  {
   "cell_type": "code",
   "execution_count": 7,
   "metadata": {},
   "outputs": [],
   "source": [
    "def add_tesseract_to_path(tesseract_path):\n",
    "    # Check if the Tesseract path is already in the PATH environment variable\n",
    "    if tesseract_path not in os.environ['PATH']:\n",
    "        # Add Tesseract path to the PATH environment variable\n",
    "        os.environ['PATH'] += os.pathsep + tesseract_path\n",
    "\n",
    "# Set the Tesseract directory\n",
    "tesseract_path = r'C:\\Program Files\\Tesseract-OCR'\n",
    "\n",
    "# Add Tesseract to PATH if it's not already there\n",
    "add_tesseract_to_path(tesseract_path)\n"
   ]
  },
  {
   "cell_type": "markdown",
   "metadata": {},
   "source": [
    "### Inspect Images"
   ]
  },
  {
   "cell_type": "code",
   "execution_count": 26,
   "metadata": {},
   "outputs": [],
   "source": [
    "def inspect_images_in_pdf(pdf_path, n_pages=1):\n",
    "    # Open the PDF file\n",
    "    pdf_document = fitz.open(pdf_path)\n",
    "    total_pages = len(pdf_document)\n",
    "    pages = min(n_pages, total_pages)\n",
    "    \n",
    "    # Loop through each page\n",
    "    for page_number in range(pages):\n",
    "        page = pdf_document.load_page(page_number)\n",
    "        image_list = page.get_images(full=True)\n",
    "        \n",
    "        zpage = my_zfill(page_number + 1, pages)\n",
    "\n",
    "        print(f\"[INFO] Page {zpage} contains {len(image_list)} images\")\n",
    "        \n",
    "        for image_index, img in enumerate(image_list):\n",
    "            xref = img[0]\n",
    "            base_image = pdf_document.extract_image(xref)\n",
    "            \n",
    "            image_ext = base_image[\"ext\"]\n",
    "            width = base_image[\"width\"]\n",
    "            height = base_image[\"height\"]\n",
    "            bpc = base_image[\"bpc\"]  # bits per component\n",
    "            colorspace = base_image[\"colorspace\"] if \"colorspace\" in base_image else \"unknown\"\n",
    "            filter_type = base_image[\"filter\"] if \"filter\" in base_image else \"unknown\"\n",
    "            \n",
    "            print(f\"Image {image_index + 1}:\")\n",
    "            print(f\"  - Format: {image_ext}\")\n",
    "            print(f\"  - Dimensions: {width} x {height}\")\n",
    "            print(f\"  - Bits per component: {bpc}\")\n",
    "            print(f\"  - Colorspace: {colorspace}\")\n",
    "            print(f\"  - Compression: {filter_type}\")\n",
    "            print()\n"
   ]
  },
  {
   "cell_type": "code",
   "execution_count": 31,
   "metadata": {},
   "outputs": [
    {
     "name": "stdout",
     "output_type": "stream",
     "text": [
      "[INFO] Page 1 contains 1 images\n",
      "Image 1:\n",
      "  - Format: jpeg\n",
      "  - Dimensions: 1054 x 1487\n",
      "  - Bits per component: 8\n",
      "  - Colorspace: 3\n",
      "  - Compression: unknown\n",
      "\n",
      "[INFO] Page 2 contains 1 images\n",
      "Image 1:\n",
      "  - Format: png\n",
      "  - Dimensions: 2512 x 2365\n",
      "  - Bits per component: 1\n",
      "  - Colorspace: 1\n",
      "  - Compression: unknown\n",
      "\n"
     ]
    }
   ],
   "source": [
    "inspect_images_in_pdf(pdf_path, n_pages=2)"
   ]
  },
  {
   "cell_type": "markdown",
   "metadata": {},
   "source": [
    "### Get text from PDF (test)"
   ]
  },
  {
   "cell_type": "code",
   "execution_count": 4,
   "metadata": {},
   "outputs": [],
   "source": [
    "def extract_text_from_pdf(pdf_path):\n",
    "    # Open the PDF file\n",
    "    pdf_document = fitz.open(pdf_path)\n",
    "    \n",
    "    # Initialize an empty string to store the extracted text\n",
    "    text = \"\"\n",
    "    \n",
    "    # Iterate over each page\n",
    "    for page_num in range(len(pdf_document)):\n",
    "        page = pdf_document.load_page(page_num)  # Load a page\n",
    "        text += page.get_text()  # Extract text from the page\n",
    "    \n",
    "    return text\n"
   ]
  },
  {
   "cell_type": "code",
   "execution_count": 5,
   "metadata": {},
   "outputs": [
    {
     "name": "stdout",
     "output_type": "stream",
     "text": [
      "\n"
     ]
    }
   ],
   "source": [
    "extracted_text = extract_text_from_pdf(pdf_path)\n",
    "print(extracted_text)"
   ]
  },
  {
   "cell_type": "markdown",
   "metadata": {},
   "source": [
    "### Exctract Images Function"
   ]
  },
  {
   "cell_type": "code",
   "execution_count": 15,
   "metadata": {},
   "outputs": [],
   "source": [
    "def extract_images_from_pdf(pdf_path, n_pages = 1, output_folder=images_path):\n",
    "    # Open the PDF file\n",
    "    pdf_document = fitz.open(pdf_path)\n",
    "    total_pages = len(pdf_document)\n",
    "    if n_pages == 0:\n",
    "        n_pages = total_pages\n",
    "    pages = min(n_pages, total_pages)\n",
    "\n",
    "    if not output_folder.exists():\n",
    "        output_folder.mkdir(parents=True)\n",
    "\n",
    "    # Loop through each page\n",
    "    for page_number in range(pages):\n",
    "        page = pdf_document.load_page(page_number)\n",
    "        image_list = page.get_images(full=True)\n",
    "        \n",
    "        for image_index, img in enumerate(image_list):\n",
    "            xref = img[0]\n",
    "            base_image = pdf_document.extract_image(xref)\n",
    "            image_bytes = base_image[\"image\"]\n",
    "            image_ext = base_image[\"ext\"]\n",
    "            \n",
    "            zpage = my_zfill(page_number + 1, pages)\n",
    "            zimage = my_zfill(image_index + 1, len(image_list))\n",
    "\n",
    "            # Write JB2 image to a file\n",
    "            image_path = output_folder / f\"page{zpage}_image{zimage}.{image_ext}\"\n",
    "            with open(image_path, 'wb') as f:\n",
    "                f.write(image_bytes)\n",
    "\n",
    "            print(f\"[INFO] Converted and saved image {zimage} on page {zpage} as {image_path}\")\n",
    "\n"
   ]
  },
  {
   "cell_type": "markdown",
   "metadata": {},
   "source": [
    "### Extract Images"
   ]
  },
  {
   "cell_type": "code",
   "execution_count": null,
   "metadata": {},
   "outputs": [],
   "source": [
    "extract_images_from_pdf(pdf_path, 0)"
   ]
  },
  {
   "cell_type": "markdown",
   "metadata": {},
   "source": [
    "### Preprocess Images"
   ]
  },
  {
   "cell_type": "code",
   "execution_count": 18,
   "metadata": {},
   "outputs": [],
   "source": [
    "def denoise(image):\n",
    "    # Apply non-local means denoising\n",
    "    image = cv2.fastNlMeansDenoisingColored(image, None, 10, 10, 7, 21)\n",
    "    return image\n",
    "\n",
    "def gaussian_blur(image):\n",
    "    # Apply Gaussian blur\n",
    "    image = cv2.GaussianBlur(image, (5, 5), 0)\n",
    "    return image\n",
    "\n",
    "def adaptive_thresholding(image):\n",
    "    # Convert image to grayscale\n",
    "    gray = cv2.cvtColor(image, cv2.COLOR_BGR2GRAY)\n",
    "    # Apply adaptive thresholding\n",
    "    image = cv2.adaptiveThreshold(gray, 255, cv2.ADAPTIVE_THRESH_GAUSSIAN_C, cv2.THRESH_BINARY, 9, 2)\n",
    "    return image\n",
    "\n",
    "def equalize(image):\n",
    "    image = cv2.equalizeHist(image)\n",
    "    return image\n",
    "\n",
    "def convert_to_binary(image):\n",
    "    _, binary_image = cv2.threshold(image, 0, 255, cv2.THRESH_BINARY + cv2.THRESH_OTSU)\n",
    "    return Image.fromarray(binary_image)\n",
    "\n",
    "def preprocess_image(image):\n",
    "\n",
    "    \n",
    "    # image = denoise(image)\n",
    "    # image = gaussian_blur(image)\n",
    "    image = adaptive_thresholding(image)\n",
    "    image = equalize(image)\n",
    "    image = convert_to_binary(image)\n",
    "\n",
    "    return image"
   ]
  },
  {
   "cell_type": "markdown",
   "metadata": {},
   "source": [
    "### Extract Text from Images Function"
   ]
  },
  {
   "cell_type": "code",
   "execution_count": 135,
   "metadata": {},
   "outputs": [],
   "source": [
    "import re\n",
    "\n",
    "def remove_line_breaks(text):\n",
    "    # Replace consecutive line breaks with a single line break\n",
    "    text = re.sub(r'\\n+', '\\n', text)\n",
    "    # Remove leading and trailing whitespace and tabs\n",
    "    text = re.sub(r'(\\n|^)[\\t ]+|[\\t ]+(\\n|$)', '', text)\n",
    "\n",
    "    # Delete dash and line break\n",
    "    text = re.sub(r'\\-\\n', '', text)\n",
    "    # Replace comma and line break with space\n",
    "    text = re.sub(r'\\,\\n', ' ', text)\n",
    "\n",
    "    # If nesxt line 1st letter is a lowercase, replace line break with space\n",
    "    text = re.sub(r'\\n(?=[a-z\\u03AC-\\u03CE])', ' ', text)\n",
    "\n",
    "    return text\n",
    "\n",
    "# tesseract seems to want to use older intonated characters\n",
    "def replace_text(text, replacements):\n",
    "    for key, value in replacements.items():\n",
    "        text = text.replace(key, value)\n",
    "    return text\n",
    "\n",
    "replacements = {'ᾶ':'ά','ἄ':'ά','ἆ':'ά','ᾱ':'ά',\n",
    "                'ἶ':'ί','ἰ':'ί',\n",
    "                'καὶ':'και',\n",
    "                'ὃ':'δ','ὅ':'δ',\n",
    "                'ῃ':'η','ῄ':'ή','ῆ':'ή',\n",
    "                'ὦ':'ώ','ῶ':'ώ','ὤ':'ώ','ὣ':'ώ',\n",
    "                'ἔ':'έ','έ':'έ',\n",
    "                'ὗ':'ύ','ὕ':'ύ'}\n",
    "\n",
    "def extract_text_from_images(folder_path, num_images=1, img_format='png', output_file='output.txt', language='eng', **kwargs):\n",
    "\n",
    "    indices = False\n",
    "    if kwargs:\n",
    "        indices = kwargs.get('indices')\n",
    "        rotate = kwargs.get('rotate')['rotate']\n",
    "\n",
    "    folder = Path(folder_path)\n",
    "    images = list(folder.glob('*.' + img_format))\n",
    "    total_num_images = len(images)\n",
    "    if num_images == 0:\n",
    "        num_images = total_num_images\n",
    "    num_images = min(num_images, total_num_images)\n",
    "    images = images[:num_images]\n",
    "    # print(images)\n",
    "    with open(output_file, 'w') as f:\n",
    "        for idx, image_path in enumerate(images):\n",
    "            \n",
    "            image = cv2.imread(str(image_path))\n",
    "\n",
    "            # Some images maybe rotated. Inspect extracted images and pass a list and the rotate argument e.g. cv2.ROTATE_90_CLOCKWISE\n",
    "            if indices and (idx+1 in indices):\n",
    "                image = cv2.rotate(image, rotate)\n",
    "\n",
    "            image = preprocess_image(image)\n",
    "            # image.show()\n",
    "\n",
    "            # I did not manage to make these tests work for tessedit_char_whitelist.\n",
    "            # ellcaps = 'ΑΒΓΔΕΖΗΘΙΚΛΜΝΞΟΠΡΣΤΥΦΧΨΩ'\n",
    "            # elllow = 'αβγδεζηθικλμνξοπρστυφχψω'\n",
    "            # ellintcaps = 'ΆΈΉΊΌΎΏ'\n",
    "            # ellintlow = 'άέήίόύώ'\n",
    "            # ellumbcaps = 'ΪΫ'\n",
    "            # ellumblow = 'ϊϋ'\n",
    "            # ellintumblow = 'ΐΰ'\n",
    "            # engcaps = 'ABCDEFGHIJKLMNOPQRSTUVWXYZ'\n",
    "            # englow = 'abcdefghijklmnopqrstuvwxyz'\n",
    "            # digs = '0123456789 '\n",
    "            # allowedchars = ellcaps + elllow + ellintcaps + ellintlow + ellumbcaps + ellumblow + ellintumblow + digs + engcaps + englow\n",
    "            # custom_config = r'-c tessedit_char_whitelist='+allowedchars\n",
    "\n",
    "            text = pytesseract.image_to_string(image, lang=language) #, config=custom_config)\n",
    "            text = replace_text(text, replacements)\n",
    "            text = remove_line_breaks(text)\n",
    "            f.write(f\"{text}\\n\\n\")\n"
   ]
  },
  {
   "cell_type": "markdown",
   "metadata": {},
   "source": [
    "### Tests"
   ]
  },
  {
   "cell_type": "code",
   "execution_count": 21,
   "metadata": {},
   "outputs": [],
   "source": [
    "# pytesseract.pytesseract.tesseract_cmd = r'C:\\Program Files\\Tesseract-OCR\\tesseract.exe'\n",
    "# image = Image.open(images_path/'page01_image1.png')\n",
    "image = cv2.imread(str(images_path/'page001_image1.jpeg'))\n",
    "image = cv2.imread(str(images_path/'page002_image1.png'))\n",
    "image = preprocess_image(image)\n",
    "image.show()\n",
    "\n",
    "# mytext = pytesseract.image_to_string(image, lang='ell+eng')\n",
    "# mytext"
   ]
  },
  {
   "cell_type": "code",
   "execution_count": 41,
   "metadata": {},
   "outputs": [],
   "source": [
    "image = cv2.imread(str(images_path/'page01_image1.png'))\n",
    "gray = cv2.cvtColor(image, cv2.COLOR_BGR2GRAY)\n",
    "image = cv2.adaptiveThreshold(gray, 255, cv2.ADAPTIVE_THRESH_GAUSSIAN_C, cv2.THRESH_BINARY, 5, 2)\n",
    "image = equalize(image)\n",
    "image = convert_to_binary(image)\n",
    "image.show()"
   ]
  },
  {
   "cell_type": "markdown",
   "metadata": {},
   "source": [
    "### Extract Text from Images"
   ]
  },
  {
   "cell_type": "code",
   "execution_count": 137,
   "metadata": {},
   "outputs": [],
   "source": [
    "# extract_text_from_images(images_path, num_images=3, img_format='*', output_file='output.txt', language='ell+eng')\n",
    "image_ind_to_rotate = [105, 113, 145] + list(range(150, 158)) + [160, 161]\n",
    "extract_text_from_images(images_path, num_images=0, img_format='*', output_file=output_path/'output.txt', language='ell', \n",
    "                         indices=image_ind_to_rotate, rotate={'rotate': cv2.ROTATE_90_CLOCKWISE})\n"
   ]
  }
 ],
 "metadata": {
  "kernelspec": {
   "display_name": "base",
   "language": "python",
   "name": "python3"
  },
  "language_info": {
   "codemirror_mode": {
    "name": "ipython",
    "version": 3
   },
   "file_extension": ".py",
   "mimetype": "text/x-python",
   "name": "python",
   "nbconvert_exporter": "python",
   "pygments_lexer": "ipython3",
   "version": "3.11.7"
  }
 },
 "nbformat": 4,
 "nbformat_minor": 2
}
