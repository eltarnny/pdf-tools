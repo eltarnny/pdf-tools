{
 "cells": [
  {
   "cell_type": "code",
   "execution_count": 1,
   "metadata": {},
   "outputs": [],
   "source": [
    "import fitz"
   ]
  },
  {
   "cell_type": "code",
   "execution_count": 2,
   "metadata": {},
   "outputs": [],
   "source": [
    "def list_pdf_links(pdf_path):\n",
    "    # Open the PDF\n",
    "    doc = fitz.open(pdf_path)\n",
    "    all_links = []\n",
    "    \n",
    "    # Iterate through each page and collect links\n",
    "    for page_num in range(doc.page_count):\n",
    "        page = doc.load_page(page_num)\n",
    "        links = page.get_links()\n",
    "        for link in links:\n",
    "            all_links.append({\n",
    "                'page': page_num,\n",
    "                'rect': link['from'],\n",
    "                'uri': link.get('uri', 'No URI')\n",
    "            })\n",
    "    \n",
    "    return all_links\n"
   ]
  },
  {
   "cell_type": "code",
   "execution_count": 3,
   "metadata": {},
   "outputs": [],
   "source": [
    "\n",
    "def update_pdf_link(pdf_path, page_number, rect, new_url):\n",
    "    # Open the PDF\n",
    "    doc = fitz.open(pdf_path)\n",
    "    \n",
    "    # Select the specified page\n",
    "    page = doc.load_page(page_number)\n",
    "    \n",
    "    # Get all links on the page\n",
    "    links = page.get_links()\n",
    "    \n",
    "    # Find the link within the specified rectangle\n",
    "    for link in links:\n",
    "        if fitz.Rect(link['from']) == fitz.Rect(rect):\n",
    "            # Update the URI of the link\n",
    "            link['uri'] = new_url\n",
    "\n",
    "            # # Remove the old link\n",
    "            # page.delete_link(link)\n",
    "            # # Add the new link\n",
    "            # page.insert_link(link)\n",
    "\n",
    "            page.update_link(link)\n",
    "            break\n",
    "    \n",
    "    # Save the updated PDF\n",
    "    doc.save(\"updated_\" + pdf_path)\n"
   ]
  },
  {
   "cell_type": "code",
   "execution_count": 4,
   "metadata": {},
   "outputs": [
    {
     "name": "stdout",
     "output_type": "stream",
     "text": [
      "Page: 0, Rect: Rect(19.63629913330078, 274.47198486328125, 150.10899353027344, 300.65399169921875), URI: https://www.linkedin.com/in/eliastarnaras/\n",
      "Page: 0, Rect: Rect(251.3000030517578, 566.5250244140625, 381.2019958496094, 576.2020263671875), URI: https://divanis.com/\n",
      "Page: 0, Rect: Rect(250.42100524902344, 576.7880249023438, 408.4729919433594, 584.7060546875), URI: https://www.lummehealth.com/\n",
      "Page: 0, Rect: Rect(249.54100036621094, 586.7579956054688, 409.9389953613281, 599.0740356445312), URI: https://www.emotioncenter.gr/\n",
      "Page: 0, Rect: Rect(251.3000030517578, 599.3670043945312, 381.4949951171875, 607.8710327148438), URI: https://www.fightstress.gr/\n",
      "Page: 0, Rect: Rect(252.47300720214844, 609.6300048828125, 503.77301025390625, 619.3070068359375), URI: https://www.headlineworldwide.com/\n",
      "Page: 0, Rect: Rect(251.88699340820312, 621.0660400390625, 380.6159973144531, 631.3300170898438), URI: https://www.anamalily.com/\n",
      "Page: 1, Rect: Rect(13.527199745178223, 509.2350158691406, 83.78160095214844, 521.4530029296875), URI: https://drive.google.com/drive/folders/1NPk6tUzzJ7b41QtqCuwMMqrOx3xjD5_M\n",
      "Page: 1, Rect: Rect(14.836299896240234, 524.072021484375, 55.41809844970703, 535.4169921875), URI: https://github.com/eltarnny/Practical-Deep-Learning-for-Coders-2022\n",
      "Page: 1, Rect: Rect(13.527199745178223, 537.5989990234375, 82.47250366210938, 550.2530517578125), URI: https://huggingface.co/spaces/eltarny/minimal\n",
      "Page: 1, Rect: Rect(13.963600158691406, 803.3436279296875, 137.01800537109375, 831.2709350585938), URI: https://www.linkedin.com/in/eliastarnaras/\n"
     ]
    }
   ],
   "source": [
    "# Example usage\n",
    "pdf_path = \"Resume - Elias Tarnaras - 2024.pdf\"\n",
    "\n",
    "# List all links\n",
    "links = list_pdf_links(pdf_path)\n",
    "for link in links:\n",
    "    print(f\"Page: {link['page']}, Rect: {link['rect']}, URI: {link['uri']}\")"
   ]
  },
  {
   "cell_type": "code",
   "execution_count": 6,
   "metadata": {},
   "outputs": [],
   "source": [
    "# Update a specific link\n",
    "page_number = 1  # Page number of the link to be updated\n",
    "rect = [14.836299896240234, 524.072021484375, 55.41809844970703, 535.4169921875]  # Rectangle coordinates of the link to be updated\n",
    "new_url = \"https://github.com/eltarnny?tab=repositories\"\n",
    "\n",
    "update_pdf_link(pdf_path, page_number, rect, new_url)\n"
   ]
  }
 ],
 "metadata": {
  "kernelspec": {
   "display_name": "base",
   "language": "python",
   "name": "python3"
  },
  "language_info": {
   "codemirror_mode": {
    "name": "ipython",
    "version": 3
   },
   "file_extension": ".py",
   "mimetype": "text/x-python",
   "name": "python",
   "nbconvert_exporter": "python",
   "pygments_lexer": "ipython3",
   "version": "3.11.7"
  }
 },
 "nbformat": 4,
 "nbformat_minor": 2
}
